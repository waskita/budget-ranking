{
 "cells": [
  {
   "cell_type": "code",
   "execution_count": 7,
   "id": "f8988e15",
   "metadata": {},
   "outputs": [],
   "source": [
    "import pandas as pd\n",
    "import matplotlib.pyplot as plt\n",
    "import numpy as np"
   ]
  },
  {
   "cell_type": "code",
   "execution_count": 8,
   "id": "2ba497f9",
   "metadata": {},
   "outputs": [
    {
     "name": "stdout",
     "output_type": "stream",
     "text": [
      "    university           SGD        budget   skor\n",
      "0          NUS  2.260947e+09  2.416950e+13   92.7\n",
      "1          ITB  1.993660e+12  1.993660e+12   39.5\n",
      "2          MIT  3.945000e+09  5.917500e+13  100.0\n",
      "3           UI           NaN  2.272000e+12   38.7\n",
      "4          IPB           NaN  1.700000e+12   26.2\n",
      "5        KAIST  8.780000e+08  1.317000e+13   79.3\n",
      "6  Southampton  5.780000e+08  9.826000e+12   65.0\n"
     ]
    }
   ],
   "source": [
    "df = pd.read_csv('university-budget.csv')\n",
    "print(df.to_string()) "
   ]
  },
  {
   "cell_type": "code",
   "execution_count": 16,
   "id": "81a78e16",
   "metadata": {},
   "outputs": [
    {
     "data": {
      "text/html": [
       "<div>\n",
       "<style scoped>\n",
       "    .dataframe tbody tr th:only-of-type {\n",
       "        vertical-align: middle;\n",
       "    }\n",
       "\n",
       "    .dataframe tbody tr th {\n",
       "        vertical-align: top;\n",
       "    }\n",
       "\n",
       "    .dataframe thead th {\n",
       "        text-align: right;\n",
       "    }\n",
       "</style>\n",
       "<table border=\"1\" class=\"dataframe\">\n",
       "  <thead>\n",
       "    <tr style=\"text-align: right;\">\n",
       "      <th></th>\n",
       "      <th>university</th>\n",
       "      <th>SGD</th>\n",
       "      <th>budget</th>\n",
       "      <th>skor</th>\n",
       "    </tr>\n",
       "  </thead>\n",
       "  <tbody>\n",
       "    <tr>\n",
       "      <th>0</th>\n",
       "      <td>NUS</td>\n",
       "      <td>2.260947e+09</td>\n",
       "      <td>2.416950e+13</td>\n",
       "      <td>92.7</td>\n",
       "    </tr>\n",
       "    <tr>\n",
       "      <th>1</th>\n",
       "      <td>ITB</td>\n",
       "      <td>1.993660e+12</td>\n",
       "      <td>1.993660e+12</td>\n",
       "      <td>39.5</td>\n",
       "    </tr>\n",
       "    <tr>\n",
       "      <th>2</th>\n",
       "      <td>MIT</td>\n",
       "      <td>3.945000e+09</td>\n",
       "      <td>5.917500e+13</td>\n",
       "      <td>100.0</td>\n",
       "    </tr>\n",
       "    <tr>\n",
       "      <th>3</th>\n",
       "      <td>UI</td>\n",
       "      <td>NaN</td>\n",
       "      <td>2.272000e+12</td>\n",
       "      <td>38.7</td>\n",
       "    </tr>\n",
       "    <tr>\n",
       "      <th>4</th>\n",
       "      <td>IPB</td>\n",
       "      <td>NaN</td>\n",
       "      <td>1.700000e+12</td>\n",
       "      <td>26.2</td>\n",
       "    </tr>\n",
       "    <tr>\n",
       "      <th>5</th>\n",
       "      <td>KAIST</td>\n",
       "      <td>8.780000e+08</td>\n",
       "      <td>1.317000e+13</td>\n",
       "      <td>79.3</td>\n",
       "    </tr>\n",
       "    <tr>\n",
       "      <th>6</th>\n",
       "      <td>Southampton</td>\n",
       "      <td>5.780000e+08</td>\n",
       "      <td>9.826000e+12</td>\n",
       "      <td>65.0</td>\n",
       "    </tr>\n",
       "  </tbody>\n",
       "</table>\n",
       "</div>"
      ],
      "text/plain": [
       "    university           SGD        budget   skor\n",
       "0          NUS  2.260947e+09  2.416950e+13   92.7\n",
       "1          ITB  1.993660e+12  1.993660e+12   39.5\n",
       "2          MIT  3.945000e+09  5.917500e+13  100.0\n",
       "3           UI           NaN  2.272000e+12   38.7\n",
       "4          IPB           NaN  1.700000e+12   26.2\n",
       "5        KAIST  8.780000e+08  1.317000e+13   79.3\n",
       "6  Southampton  5.780000e+08  9.826000e+12   65.0"
      ]
     },
     "execution_count": 16,
     "metadata": {},
     "output_type": "execute_result"
    }
   ],
   "source": [
    "df"
   ]
  },
  {
   "cell_type": "code",
   "execution_count": 20,
   "id": "91809e77",
   "metadata": {},
   "outputs": [
    {
     "data": {
      "image/png": "[encoded data removed]",
      "text/plain": [
       "<Figure size 432x288 with 1 Axes>"
      ]
     },
     "metadata": {
      "needs_background": "light"
     },
     "output_type": "display_data"
    }
   ],
   "source": [
    "fig,ax1 = plt.subplots(1)\n",
    "ax1.plot(df['budget'],df['skor'],'*')\n",
    "fig.suptitle('Budget vs Score')\n",
    "ax1.set_ylabel('score')\n",
    "ax1.set_xlabel('budget')\n",
    "plt.savefig('perbandingan.jpg',dpi=200)"
   ]
  },
  {
   "cell_type": "code",
   "execution_count": null,
   "id": "029b2358",
   "metadata": {},
   "outputs": [],
   "source": []
  }
 ],
 "metadata": {
  "kernelspec": {
   "display_name": "Python 3",
   "language": "python",
   "name": "python3"
  },
  "language_info": {
   "codemirror_mode": {
    "name": "ipython",
    "version": 3
   },
   "file_extension": ".py",
   "mimetype": "text/x-python",
   "name": "python",
   "nbconvert_exporter": "python",
   "pygments_lexer": "ipython3",
   "version": "3.8.8"
  }
 },
 "nbformat": 4,
 "nbformat_minor": 5
}
